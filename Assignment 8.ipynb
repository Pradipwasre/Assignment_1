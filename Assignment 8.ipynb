{
 "cells": [
  {
   "cell_type": "markdown",
   "id": "4dc496ae",
   "metadata": {},
   "source": [
    "<aside>\n",
    "💡 **Question 1**\n",
    "\n",
    "Given two strings s1 and s2, return *the lowest **ASCII** sum of deleted characters to make two strings equal*.\n",
    "\n",
    "**Example 1:**\n",
    "\n",
    "**Input:** s1 = \"sea\", s2 = \"eat\"\n",
    "\n",
    "**Output:** 231\n",
    "\n",
    "**Explanation:** Deleting \"s\" from \"sea\" adds the ASCII value of \"s\" (115) to the sum.\n",
    "\n",
    "Deleting \"t\" from \"eat\" adds 116 to the sum.\n",
    "\n",
    "At the end, both strings are equal, and 115 + 116 = 231 is the minimum sum possible to achieve this.\n",
    "\n",
    "</aside>"
   ]
  },
  {
   "cell_type": "code",
   "execution_count": 3,
   "id": "f5686921",
   "metadata": {},
   "outputs": [],
   "source": [
    "def minimumDeleteSum(s1,s2):\n",
    "    dp = [[0 for j in range(len(s2)+1)] for i in range(len(s1)+1)]\n",
    "    for i in range(len(s1)-1,-1,-1):\n",
    "        for j in range(len(s2)-1,-1,-1):\n",
    "            if s1[i] == s2[j]:\n",
    "                dp[i][j] = ord(s1[i]) + dp[i+1][j+1]\n",
    "            else:\n",
    "                dp[i][j] = max(dp[i+1][j],dp[i][j+1])                    \n",
    "    total = 0\n",
    "    for c in s1:\n",
    "        total += ord(c)\n",
    "    for c in s2:\n",
    "        total += ord(c)\n",
    "    return total - dp[0][0]*2"
   ]
  },
  {
   "cell_type": "code",
   "execution_count": 4,
   "id": "05bdd515",
   "metadata": {},
   "outputs": [
    {
     "data": {
      "text/plain": [
       "231"
      ]
     },
     "execution_count": 4,
     "metadata": {},
     "output_type": "execute_result"
    }
   ],
   "source": [
    "s1 = \"sea\"\n",
    "s2 = \"eat\"\n",
    "minimumDeleteSum(s1,s2)"
   ]
  },
  {
   "cell_type": "markdown",
   "id": "7bf8de37",
   "metadata": {},
   "source": [
    "<aside>\n",
    "💡 **Question 2**\n",
    "\n",
    "Given a string s containing only three types of characters: '(', ')' and '*', return true *if* s *is **valid***.\n",
    "\n",
    "The following rules define a **valid** string:\n",
    "\n",
    "- Any left parenthesis '(' must have a corresponding right parenthesis ')'.\n",
    "- Any right parenthesis ')' must have a corresponding left parenthesis '('.\n",
    "- Left parenthesis '(' must go before the corresponding right parenthesis ')'.\n",
    "- '*' could be treated as a single right parenthesis ')' or a single left parenthesis '(' or an empty string \"\".\n",
    "\n",
    "**Example 1:**\n",
    "\n",
    "**Input:** s = \"()\"\n",
    "\n",
    "**Output:**\n",
    "\n",
    "true\n",
    "\n",
    "</aside>"
   ]
  },
  {
   "cell_type": "code",
   "execution_count": 6,
   "id": "497be869",
   "metadata": {},
   "outputs": [],
   "source": [
    "def checkValidString(s):\n",
    "    s1 = []\n",
    "    s2 = []\n",
    "    for i, c in enumerate(s):\n",
    "        if c == '(':\n",
    "            s1.append(i)\n",
    "        elif c == '*':\n",
    "            s2.append(i)\n",
    "        else:\n",
    "            if s1:\n",
    "                s1.pop()\n",
    "            elif s2:\n",
    "                s2.pop()\n",
    "            else:\n",
    "                return False\n",
    "\n",
    "    while s1 and s2:\n",
    "        if s1[-1] > s2[-1]: # ( is closer to the end than *\n",
    "            return False\n",
    "        s1.pop()\n",
    "        s2.pop()\n",
    "    return s1 == []\n",
    "    # O(n)|O(n)"
   ]
  },
  {
   "cell_type": "code",
   "execution_count": 7,
   "id": "d3a7ee96",
   "metadata": {},
   "outputs": [
    {
     "data": {
      "text/plain": [
       "True"
      ]
     },
     "execution_count": 7,
     "metadata": {},
     "output_type": "execute_result"
    }
   ],
   "source": [
    "s = \"()\"\n",
    "checkValidString(s)"
   ]
  },
  {
   "cell_type": "markdown",
   "id": "192b5187",
   "metadata": {},
   "source": [
    "<aside>\n",
    "💡 **Question 3**\n",
    "\n",
    "Given two strings word1 and word2, return *the minimum number of **steps** required to make* word1 *and* word2 *the same*.\n",
    "\n",
    "In one **step**, you can delete exactly one character in either string.\n",
    "\n",
    "**Example 1:**\n",
    "\n",
    "**Input:** word1 = \"sea\", word2 = \"eat\"\n",
    "\n",
    "**Output:** 2\n",
    "\n",
    "**Explanation:** You need one step to make \"sea\" to \"ea\" and another step to make \"eat\" to \"ea\".\n",
    "\n",
    "</aside>"
   ]
  },
  {
   "cell_type": "code",
   "execution_count": 8,
   "id": "8adde8ba",
   "metadata": {},
   "outputs": [],
   "source": [
    "word1 = \"sea\"\n",
    "word2 = \"eat\""
   ]
  },
  {
   "cell_type": "code",
   "execution_count": 23,
   "id": "d6f9f16e",
   "metadata": {},
   "outputs": [],
   "source": [
    "def minDistance(word1, word2):\n",
    "    m = len(word1)\n",
    "    n = len(word2)\n",
    "    dp = [[0]*(n+1) for i in range(m+1)]\n",
    "    for i in range(1,m+1):\n",
    "        for j in range(1,n+1):\n",
    "            if word1[i-1]==word2[j-1]:\n",
    "                dp[i][j] = dp[i-1][j-1]+1\n",
    "            else:\n",
    "                dp[i][j] = max(dp[i][j-1],dp[i-1][j])\n",
    "    lcs = dp[m][n]\n",
    "    return (m+n)-2*lcs"
   ]
  },
  {
   "cell_type": "code",
   "execution_count": 24,
   "id": "adae1378",
   "metadata": {},
   "outputs": [
    {
     "data": {
      "text/plain": [
       "2"
      ]
     },
     "execution_count": 24,
     "metadata": {},
     "output_type": "execute_result"
    }
   ],
   "source": [
    "minDistance(word1,word2)"
   ]
  },
  {
   "cell_type": "markdown",
   "id": "ed47b5de",
   "metadata": {},
   "source": [
    "<aside>\n",
    "💡 **Question 4**\n",
    "\n",
    "You need to construct a binary tree from a string consisting of parenthesis and integers.\n",
    "\n",
    "The whole input represents a binary tree. It contains an integer followed by zero, one or two pairs of parenthesis. The integer represents the root's value and a pair of parenthesis contains a child binary tree with the same structure.\n",
    "You always start to construct the **left** child node of the parent first if it exists.\n",
    "\n",
    "</aside>"
   ]
  },
  {
   "cell_type": "markdown",
   "id": "3f6bb391",
   "metadata": {},
   "source": [
    "<aside>\n",
    "💡 **Question 5**\n",
    "\n",
    "Given an array of characters chars, compress it using the following algorithm:\n",
    "\n",
    "Begin with an empty string s. For each group of **consecutive repeating characters** in chars:\n",
    "\n",
    "- If the group's length is 1, append the character to s.\n",
    "- Otherwise, append the character followed by the group's length.\n",
    "\n",
    "The compressed string s **should not be returned separately**, but instead, be stored **in the input character array chars**. Note that group lengths that are 10 or longer will be split into multiple characters in chars.\n",
    "\n",
    "After you are done **modifying the input array,** return *the new length of the array*.\n",
    "\n",
    "You must write an algorithm that uses only constant extra space.\n",
    "\n",
    "</aside>"
   ]
  },
  {
   "cell_type": "code",
   "execution_count": 33,
   "id": "4caeff9f",
   "metadata": {},
   "outputs": [],
   "source": [
    "chars = [\"a\",\"a\",\"b\",\"b\",\"c\",\"c\",\"c\"]"
   ]
  },
  {
   "cell_type": "code",
   "execution_count": 36,
   "id": "0e2f1a5a",
   "metadata": {},
   "outputs": [],
   "source": [
    "def compress(chars):\n",
    "    n = len(chars)\n",
    "    if n == 1:\n",
    "        return 1\n",
    "\n",
    "    i = 0\n",
    "    j = 0\n",
    "\n",
    "    while i < n:\n",
    "        count = 1\n",
    "        while i < n - 1 and chars[i] == chars[i+1]:\n",
    "            count += 1\n",
    "            i += 1\n",
    "\n",
    "        chars[j] = chars[i]\n",
    "        j += 1\n",
    "\n",
    "        if count > 1:\n",
    "            for c in str(count):\n",
    "                chars[j] = c\n",
    "                j += 1\n",
    "\n",
    "        i += 1\n",
    "\n",
    "    return j"
   ]
  },
  {
   "cell_type": "markdown",
   "id": "e21884fd",
   "metadata": {},
   "source": [
    "<aside>\n",
    "💡 **Question 6**\n",
    "\n",
    "Given two strings s and p, return *an array of all the start indices of* p*'s anagrams in* s. You may return the answer in **any order**.\n",
    "\n",
    "An **Anagram** is a word or phrase formed by rearranging the letters of a different word or phrase, typically using all the original letters exactly once.\n",
    "\n",
    "</aside>"
   ]
  },
  {
   "cell_type": "code",
   "execution_count": 47,
   "id": "fd7008b2",
   "metadata": {},
   "outputs": [],
   "source": [
    "s = \"cbaebabacd\"\n",
    "p = \"abc\"\n",
    "\n",
    "def findAnagrams(s,p):\n",
    "    ans=[]\n",
    "    q=\"\".join(sorted(p))\n",
    "    for i in range(0,len(s)-len(p)+1):\n",
    "        p=\"\".join(sorted(s[i:i+len(p)]))\n",
    "        if p==q:\n",
    "            ans.append(i)\n",
    "    return ans"
   ]
  },
  {
   "cell_type": "markdown",
   "id": "0132a54c",
   "metadata": {},
   "source": [
    "<aside>\n",
    "💡 **Question 7**\n",
    "\n",
    "Given an encoded string, return its decoded string.\n",
    "\n",
    "The encoding rule is: k[encoded_string], where the encoded_string inside the square brackets is being repeated exactly k times. Note that k is guaranteed to be a positive integer.\n",
    "\n",
    "You may assume that the input string is always valid; there are no extra white spaces, square brackets are well-formed, etc. Furthermore, you may assume that the original data does not contain any digits and that digits are only for those repeat numbers, k. For example, there will not be input like 3a or 2[4].\n",
    "\n",
    "The test cases are generated so that the length of the output will never exceed 105.\n",
    "\n",
    "</aside>"
   ]
  },
  {
   "cell_type": "code",
   "execution_count": 44,
   "id": "87a1f5d9",
   "metadata": {},
   "outputs": [],
   "source": [
    "s = \"3[a]2[bc]\"\n",
    "def decodeString(s):       \n",
    "    def dfs(s,p):\n",
    "        res = \"\"\n",
    "        i,num = p,0\n",
    "        while i<len(s):\n",
    "            asc = (ord(s[i])-48)\n",
    "            if 0<=asc<=9:           # can also be written as if s[i].isdigit()\n",
    "                num=num*10+asc\n",
    "            elif s[i]==\"[\":\n",
    "                local,pos = dfs(s,i+1)\n",
    "                res+=local*num\n",
    "                i=pos\n",
    "                num=0\n",
    "            elif s[i]==\"]\":\n",
    "                return res,i\n",
    "            else:\n",
    "                res+=s[i]\n",
    "            i+=1\n",
    "        return res,i\n",
    "    \n",
    "    return dfs(s,0)[0]"
   ]
  },
  {
   "cell_type": "markdown",
   "id": "45d923ef",
   "metadata": {},
   "source": [
    "<aside>\n",
    "💡 **Question 8**\n",
    "\n",
    "Given two strings s and goal, return true *if you can swap two letters in* s *so the result is equal to* goal*, otherwise, return* false*.*\n",
    "\n",
    "Swapping letters is defined as taking two indices i and j (0-indexed) such that i != j and swapping the characters at s[i] and s[j].\n",
    "\n",
    "- For example, swapping at indices 0 and 2 in \"abcd\" results in \"cbad\".\n",
    "</aside>"
   ]
  },
  {
   "cell_type": "code",
   "execution_count": 53,
   "id": "c8f758fb",
   "metadata": {},
   "outputs": [],
   "source": [
    "s = \"ab\"\n",
    "goal = \"ba\""
   ]
  },
  {
   "cell_type": "code",
   "execution_count": 54,
   "id": "bb4321db",
   "metadata": {},
   "outputs": [],
   "source": [
    "def buddyStrings(s, goal):\n",
    "\n",
    "    if len(A) != len(B):\n",
    "        return False\n",
    "\n",
    "    if A == B and len(set(A)) < len(A):\n",
    "        return True\n",
    "    differences = []\n",
    "    for x in range(len(B)):\n",
    "        if A[x] != B[x]:\n",
    "            differences.append([A[x], B[x]])\n",
    "\n",
    "    if len(differences) == 2 and differences[0] == differences[-1][::-1]:\n",
    "        return True\n",
    "\n",
    "    return False"
   ]
  },
  {
   "cell_type": "code",
   "execution_count": null,
   "id": "dc2e1d78",
   "metadata": {},
   "outputs": [],
   "source": []
  }
 ],
 "metadata": {
  "kernelspec": {
   "display_name": "Python 3 (ipykernel)",
   "language": "python",
   "name": "python3"
  },
  "language_info": {
   "codemirror_mode": {
    "name": "ipython",
    "version": 3
   },
   "file_extension": ".py",
   "mimetype": "text/x-python",
   "name": "python",
   "nbconvert_exporter": "python",
   "pygments_lexer": "ipython3",
   "version": "3.10.8"
  }
 },
 "nbformat": 4,
 "nbformat_minor": 5
}
