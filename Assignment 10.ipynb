{
 "cells": [
  {
   "cell_type": "markdown",
   "id": "7a69f025",
   "metadata": {},
   "source": [
    "Given an integer `n`, return *`true` if it is a power of three. Otherwise, return `false`*.\n",
    "\n",
    "An integer `n` is a power of three, if there exists an integer `x` such that `n == 3x`."
   ]
  },
  {
   "cell_type": "code",
   "execution_count": 1,
   "id": "a07cf0df",
   "metadata": {},
   "outputs": [],
   "source": [
    "def isPower_of_Three(n):\n",
    " \n",
    "    if (n <= 0):\n",
    "        return False\n",
    "    if (n % 3 == 0):\n",
    "        return isPower_of_Three(n // 3)\n",
    "    if (n == 1):\n",
    "        return True\n",
    "    return False"
   ]
  },
  {
   "cell_type": "code",
   "execution_count": 2,
   "id": "9b339a27",
   "metadata": {},
   "outputs": [
    {
     "data": {
      "text/plain": [
       "True"
      ]
     },
     "execution_count": 2,
     "metadata": {},
     "output_type": "execute_result"
    }
   ],
   "source": [
    "isPower_of_Three(n = 27)"
   ]
  },
  {
   "cell_type": "markdown",
   "id": "24d07154",
   "metadata": {},
   "source": [
    "<aside>\n",
    "💡 **Question 2**\n",
    "\n",
    "You have a list `arr` of all integers in the range `[1, n]` sorted in a strictly increasing order. Apply the following algorithm on `arr`:\n",
    "\n",
    "- Starting from left to right, remove the first number and every other number afterward until you reach the end of the list.\n",
    "- Repeat the previous step again, but this time from right to left, remove the rightmost number and every other number from the remaining numbers.\n",
    "- Keep repeating the steps again, alternating left to right and right to left, until a single number remains.\n",
    "\n",
    "Given the integer `n`, return *the last number that remains in* `arr`.\n",
    "\n",
    "</aside>"
   ]
  },
  {
   "cell_type": "code",
   "execution_count": 3,
   "id": "630a214c",
   "metadata": {},
   "outputs": [],
   "source": [
    "n = 9"
   ]
  },
  {
   "cell_type": "code",
   "execution_count": 5,
   "id": "d19d8561",
   "metadata": {},
   "outputs": [],
   "source": [
    "def lastRemaining(n):\n",
    "    def track_frst(element_ct,curr_frst,power):\n",
    "        if element_ct==1:\n",
    "            return curr_frst\n",
    "        if element_ct%2!=0 or power%2!=0:\n",
    "            return track_frst(element_ct//2,curr_frst+2**(power-1),power+1)\n",
    "        return track_frst(element_ct//2,curr_frst,power+1)\n",
    "    return track_frst(n,1,1)"
   ]
  },
  {
   "cell_type": "code",
   "execution_count": 6,
   "id": "a30cbab3",
   "metadata": {},
   "outputs": [
    {
     "data": {
      "text/plain": [
       "6"
      ]
     },
     "execution_count": 6,
     "metadata": {},
     "output_type": "execute_result"
    }
   ],
   "source": [
    "lastRemaining(n)"
   ]
  },
  {
   "cell_type": "markdown",
   "id": "e53fc2c8",
   "metadata": {},
   "source": [
    "<aside>\n",
    "💡 **Question 3**\n",
    "\n",
    "****Given a set represented as a string, write a recursive code to print all subsets of it. The subsets can be printed in any order.\n",
    "\n",
    "</aside>"
   ]
  },
  {
   "cell_type": "code",
   "execution_count": 36,
   "id": "e9bf4f85",
   "metadata": {},
   "outputs": [],
   "source": [
    "set1 = \"abc\""
   ]
  },
  {
   "cell_type": "markdown",
   "id": "a82e1cea",
   "metadata": {},
   "source": [
    "<aside>\n",
    "💡 **Question 4**\n",
    "\n",
    "Given a string calculate length of the string using recursion.\n",
    "\n",
    "</aside>"
   ]
  },
  {
   "cell_type": "code",
   "execution_count": 8,
   "id": "34cfd1c9",
   "metadata": {},
   "outputs": [],
   "source": [
    "str1 = \"abcd\""
   ]
  },
  {
   "cell_type": "code",
   "execution_count": 12,
   "id": "2ca72201",
   "metadata": {},
   "outputs": [],
   "source": [
    "def string_length(str) : \n",
    "    if str == '':\n",
    "        return 0\n",
    "    else :\n",
    "        return 1 + string_length(str[1:])"
   ]
  },
  {
   "cell_type": "code",
   "execution_count": 14,
   "id": "4a750558",
   "metadata": {},
   "outputs": [
    {
     "name": "stdout",
     "output_type": "stream",
     "text": [
      "4\n"
     ]
    }
   ],
   "source": [
    "print(string_length(str1))"
   ]
  },
  {
   "cell_type": "markdown",
   "id": "02a4bfa8",
   "metadata": {},
   "source": [
    "<aside>\n",
    "💡 **Question 5**\n",
    "\n",
    "We are given a string S, we need to find count of all contiguous substrings starting and ending with same character.\n",
    "\n",
    "</aside>"
   ]
  },
  {
   "cell_type": "code",
   "execution_count": 22,
   "id": "f4a7b5a1",
   "metadata": {},
   "outputs": [],
   "source": [
    "def checkEquality(s):\n",
    "    return (ord(s[0]) == ord(s[len(s) - 1]))"
   ]
  },
  {
   "cell_type": "code",
   "execution_count": 23,
   "id": "42699a7d",
   "metadata": {},
   "outputs": [],
   "source": [
    "def countSubstringWithEqualEnds(s):\n",
    "    result = 0;\n",
    "    n = len(s);\n",
    " \n",
    "    for i in range(n):\n",
    "         for j in range(1,n-i+1):\n",
    " \n",
    "            if (checkEquality(s[i:i+j])):\n",
    "                result+=1;\n",
    " \n",
    "    return result"
   ]
  },
  {
   "cell_type": "code",
   "execution_count": 24,
   "id": "8b1cd597",
   "metadata": {},
   "outputs": [
    {
     "data": {
      "text/plain": [
       "7"
      ]
     },
     "execution_count": 24,
     "metadata": {},
     "output_type": "execute_result"
    }
   ],
   "source": [
    "S = \"abcab\"\n",
    "countSubstringWithEqualEnds(S)"
   ]
  },
  {
   "cell_type": "markdown",
   "id": "39c55b2a",
   "metadata": {},
   "source": [
    "<aside>\n",
    "💡 **Question 6**\n",
    "\n",
    "The [tower of Hanoi](https://en.wikipedia.org/wiki/Tower_of_Hanoi) is a famous puzzle where we have three rods and **N** disks. The objective of the puzzle is to move the entire stack to another rod. You are given the number of discs **N**. Initially, these discs are in the rod 1. You need to print all the steps of discs movement so that all the discs reach the 3rd rod. Also, you need to find the total moves.**Note:** The discs are arranged such that the **top disc is numbered 1** and the **bottom-most disc is numbered N**. Also, all the discs have **different sizes** and a bigger disc **cannot** be put on the top of a smaller disc. Refer the provided link to get a better clarity about the puzzle.\n",
    "\n",
    "</aside>"
   ]
  },
  {
   "cell_type": "code",
   "execution_count": 27,
   "id": "87c7ad80",
   "metadata": {},
   "outputs": [],
   "source": [
    "def TowerOfHanoi(n , source, destination, auxiliary):\n",
    "    if n==1:\n",
    "        print (\"Move disk 1 from source\",source,\"to rod\",destination)\n",
    "        return\n",
    "    TowerOfHanoi(n-1, source, auxiliary, destination)\n",
    "    print (\"Move disk\",n,\"from source\",source,\"to destination\",destination)\n",
    "    TowerOfHanoi(n-1, auxiliary, destination, source)\n"
   ]
  },
  {
   "cell_type": "code",
   "execution_count": 28,
   "id": "a1330057",
   "metadata": {},
   "outputs": [
    {
     "name": "stdout",
     "output_type": "stream",
     "text": [
      "Move disk 1 from source A to rod C\n",
      "Move disk 2 from source A to destination B\n",
      "Move disk 1 from source C to rod B\n",
      "Move disk 3 from source A to destination C\n",
      "Move disk 1 from source B to rod A\n",
      "Move disk 2 from source B to destination C\n",
      "Move disk 1 from source A to rod C\n",
      "Move disk 4 from source A to destination B\n",
      "Move disk 1 from source C to rod B\n",
      "Move disk 2 from source C to destination A\n",
      "Move disk 1 from source B to rod A\n",
      "Move disk 3 from source C to destination B\n",
      "Move disk 1 from source A to rod C\n",
      "Move disk 2 from source A to destination B\n",
      "Move disk 1 from source C to rod B\n"
     ]
    }
   ],
   "source": [
    "n = 4\n",
    "TowerOfHanoi(n,'A','B','C')"
   ]
  },
  {
   "cell_type": "markdown",
   "id": "e99031b8",
   "metadata": {},
   "source": [
    "<aside>\n",
    "💡 **Question 7**\n",
    "\n",
    "Given a string **str**, the task is to print all the permutations of **str**. A **permutation** is an arrangement of all or part of a set of objects, with regard to the order of the arrangement. For instance, the words ‘bat’ and ‘tab’ represents two distinct permutation (or arrangements) of a similar three letter word.\n",
    "\n",
    "</aside>"
   ]
  },
  {
   "cell_type": "markdown",
   "id": "e109afa4",
   "metadata": {},
   "source": [
    "<aside>\n",
    "💡 **Question 8**\n",
    "\n",
    "Given a string, count total number of consonants in it. A consonant is an English alphabet character that is not vowel (a, e, i, o and u). Examples of constants are b, c, d, f, and g\n",
    "\n",
    "</aside>"
   ]
  },
  {
   "cell_type": "code",
   "execution_count": 31,
   "id": "f0d8581f",
   "metadata": {},
   "outputs": [],
   "source": [
    "def isConsonant(ch):\n",
    "    ch = ch.upper()\n",
    "  \n",
    "    return not (ch == 'A' or ch == 'E' or \n",
    "                ch == 'I' or ch == 'O' or \n",
    "                ch == 'U') and ord(ch) >= 65 and ord(ch) <= 90\n",
    "  \n",
    "def totalConsonants(string):\n",
    "    count = 0\n",
    "      \n",
    "    for i in range(len(string)):\n",
    "          if (isConsonant(string[i])):\n",
    "            count += 1            \n",
    "    return count"
   ]
  },
  {
   "cell_type": "code",
   "execution_count": 32,
   "id": "8a73c911",
   "metadata": {},
   "outputs": [
    {
     "data": {
      "text/plain": [
       "3"
      ]
     },
     "execution_count": 32,
     "metadata": {},
     "output_type": "execute_result"
    }
   ],
   "source": [
    "a = \"abc de\"\n",
    "totalConsonants(a)"
   ]
  },
  {
   "cell_type": "code",
   "execution_count": null,
   "id": "d2cb5951",
   "metadata": {},
   "outputs": [],
   "source": []
  },
  {
   "cell_type": "code",
   "execution_count": null,
   "id": "51508367",
   "metadata": {},
   "outputs": [],
   "source": []
  },
  {
   "cell_type": "code",
   "execution_count": null,
   "id": "0a64e44a",
   "metadata": {},
   "outputs": [],
   "source": []
  },
  {
   "cell_type": "code",
   "execution_count": null,
   "id": "088cb28d",
   "metadata": {},
   "outputs": [],
   "source": []
  },
  {
   "cell_type": "code",
   "execution_count": null,
   "id": "e6ce1c95",
   "metadata": {},
   "outputs": [],
   "source": []
  },
  {
   "cell_type": "code",
   "execution_count": null,
   "id": "53ee144c",
   "metadata": {},
   "outputs": [],
   "source": []
  },
  {
   "cell_type": "code",
   "execution_count": null,
   "id": "0f0f38c2",
   "metadata": {},
   "outputs": [],
   "source": []
  }
 ],
 "metadata": {
  "kernelspec": {
   "display_name": "Python 3 (ipykernel)",
   "language": "python",
   "name": "python3"
  },
  "language_info": {
   "codemirror_mode": {
    "name": "ipython",
    "version": 3
   },
   "file_extension": ".py",
   "mimetype": "text/x-python",
   "name": "python",
   "nbconvert_exporter": "python",
   "pygments_lexer": "ipython3",
   "version": "3.10.8"
  }
 },
 "nbformat": 4,
 "nbformat_minor": 5
}
