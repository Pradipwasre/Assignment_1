{
 "cells": [
  {
   "cell_type": "markdown",
   "id": "3c439db0",
   "metadata": {},
   "source": [
    "Question 1\n",
    "Given an integer array nums of length n and an integer target, find three integers\n",
    "in nums such that the sum is closest to the target.\n",
    "Return the sum of the three integers."
   ]
  },
  {
   "cell_type": "code",
   "execution_count": 5,
   "id": "4338dbb7",
   "metadata": {},
   "outputs": [],
   "source": [
    "class Solution:\n",
    "    def threeSumClosest(self, nums, target):\n",
    "        nums=sorted(nums)\n",
    "        diff=float('inf')\n",
    "        for i in range(len(nums)-1):\n",
    "            start=i+1\n",
    "            end=len(nums)-1\n",
    "            while(start<end):\n",
    "                sum=nums[i]+nums[start]+nums[end]\n",
    "                if sum==target:\n",
    "                    return target\n",
    "                elif abs(target-sum)<diff:\n",
    "                    diff=abs(target-sum)\n",
    "                    ans=sum\n",
    "                if sum>target:\n",
    "                    end-=1\n",
    "                else:\n",
    "                    start+=1\n",
    "        return ans"
   ]
  },
  {
   "cell_type": "code",
   "execution_count": 7,
   "id": "24482125",
   "metadata": {},
   "outputs": [
    {
     "data": {
      "text/plain": [
       "2"
      ]
     },
     "execution_count": 7,
     "metadata": {},
     "output_type": "execute_result"
    }
   ],
   "source": [
    "nums = [-1,2,1,-4]\n",
    "target = 1\n",
    "a = Solution()\n",
    "a.threeSumClosest(nums,target)"
   ]
  },
  {
   "cell_type": "markdown",
   "id": "9dbd9576",
   "metadata": {},
   "source": [
    "Question 2\n",
    "Given an array nums of n integers, return an array of all the unique quadruplets\n",
    "[nums[a], nums[b], nums[c], nums[d]] such that:"
   ]
  },
  {
   "cell_type": "code",
   "execution_count": 8,
   "id": "80c7cf84",
   "metadata": {},
   "outputs": [],
   "source": [
    "class Solution:\n",
    "    def fourSum(self, nums, target):\n",
    "        ans = set()\n",
    "        nums.sort()\n",
    "        for i in range(len(nums)):\n",
    "            for j in range(i+1,len(nums)):\n",
    "                k,l = j+1,len(nums)-1\n",
    "                while k<l:\n",
    "                    s = nums[i]+nums[j]+nums[k]+nums[l]\n",
    "                    if s == target:\n",
    "                        ans.add((nums[i],nums[j],nums[k],nums[l]))\n",
    "                        l-=1\n",
    "                        k+=1\n",
    "                    elif s > target:\n",
    "                        l-=1\n",
    "                    else:\n",
    "                        k+=1\n",
    "                  \n",
    "        return ans"
   ]
  },
  {
   "cell_type": "code",
   "execution_count": 11,
   "id": "94d0522d",
   "metadata": {},
   "outputs": [
    {
     "data": {
      "text/plain": [
       "{(-2, -1, 1, 2), (-2, 0, 0, 2), (-1, 0, 0, 1)}"
      ]
     },
     "execution_count": 11,
     "metadata": {},
     "output_type": "execute_result"
    }
   ],
   "source": [
    "nums = [1,0,-1,0,-2,2]\n",
    "target = 0\n",
    "a = Solution()\n",
    "a.fourSum(nums,target)"
   ]
  },
  {
   "cell_type": "markdown",
   "id": "57df6f9c",
   "metadata": {},
   "source": [
    "Question 3\n",
    "A permutation of an array of integers is an arrangement of its members into a\n",
    "sequence or linear order."
   ]
  },
  {
   "cell_type": "code",
   "execution_count": 20,
   "id": "5d2f4eb6",
   "metadata": {},
   "outputs": [],
   "source": [
    "class Solution:\n",
    "    def nextPermutation(self, nums):\n",
    "        length = len(nums)\n",
    "        if length <= 2:\n",
    "            return nums.reverse()\n",
    "        pointer = length - 2\n",
    "        \n",
    "        while pointer >= 0 and nums[pointer] >= nums[pointer + 1]:\n",
    "            pointer -= 1\n",
    "        \n",
    "        if pointer == -1:\n",
    "            return nums.reverse()\n",
    "        \n",
    "        for x in range(length - 1, pointer, -1):\n",
    "            if nums[pointer] < nums[x]:\n",
    "                nums[pointer], nums[x] = nums[x], nums[pointer]\n",
    "                break\n",
    "        \n",
    "        nums[pointer + 1:] = reversed(nums[pointer + 1:])"
   ]
  },
  {
   "cell_type": "code",
   "execution_count": 21,
   "id": "22ab89e3",
   "metadata": {},
   "outputs": [],
   "source": [
    "nums = [1,2,3]"
   ]
  },
  {
   "cell_type": "code",
   "execution_count": 22,
   "id": "6d0bcc50",
   "metadata": {},
   "outputs": [
    {
     "data": {
      "text/plain": [
       "[1, 3, 2]"
      ]
     },
     "execution_count": 22,
     "metadata": {},
     "output_type": "execute_result"
    }
   ],
   "source": [
    "a = Solution()\n",
    "a.nextPermutation(nums)\n",
    "nums"
   ]
  },
  {
   "cell_type": "markdown",
   "id": "24296080",
   "metadata": {},
   "source": [
    "Question 4\n",
    "Given a sorted array of distinct integers and a target value, return the index if the\n",
    "target is found. If not, return the index where it would be if it were inserted in\n",
    "order."
   ]
  },
  {
   "cell_type": "code",
   "execution_count": 24,
   "id": "09233ea1",
   "metadata": {},
   "outputs": [],
   "source": [
    "class Solution:\n",
    "    def searchInsert(self, nums, target):\n",
    "        start = 0\n",
    "        end = len(nums)-1\n",
    "        while start <= end:\n",
    "            mid = (start + end)//2\n",
    "            if nums[mid] == target:\n",
    "                return mid\n",
    "            elif nums[mid] > target:\n",
    "                end = mid - 1\n",
    "            else:\n",
    "                start = mid + 1\n",
    "        return end+1"
   ]
  },
  {
   "cell_type": "code",
   "execution_count": 25,
   "id": "3ffd9398",
   "metadata": {},
   "outputs": [
    {
     "data": {
      "text/plain": [
       "2"
      ]
     },
     "execution_count": 25,
     "metadata": {},
     "output_type": "execute_result"
    }
   ],
   "source": [
    "nums = [1,3,5,6]\n",
    "target = 5\n",
    "a = Solution()\n",
    "a.searchInsert(nums,target)"
   ]
  },
  {
   "cell_type": "markdown",
   "id": "6a9acea6",
   "metadata": {},
   "source": [
    "Question 5\n",
    "You are given a large integer represented as an integer array digits, where each\n",
    "digits[i] is the ith digit of the integer. The digits are ordered from most significant\n",
    "to least significant in left-to-right order. The large integer does not contain any\n",
    "leading 0's."
   ]
  },
  {
   "cell_type": "code",
   "execution_count": 27,
   "id": "4d9af56d",
   "metadata": {},
   "outputs": [],
   "source": [
    "class Solution:\n",
    "    def plusOne(self, digits):\n",
    "\n",
    "        pointer = len(digits) - 1\n",
    "        \n",
    "        while digits[pointer] == 9:\n",
    "            digits[pointer] = 0\n",
    "            pointer -= 1\n",
    "        \n",
    "        if pointer == -1:\n",
    "            digits.insert(0, 1)\n",
    "        \n",
    "        else:\n",
    "            digits[pointer] += 1\n",
    "        \n",
    "        return digits"
   ]
  },
  {
   "cell_type": "code",
   "execution_count": 28,
   "id": "bdee61b9",
   "metadata": {},
   "outputs": [
    {
     "data": {
      "text/plain": [
       "[1, 2, 4]"
      ]
     },
     "execution_count": 28,
     "metadata": {},
     "output_type": "execute_result"
    }
   ],
   "source": [
    "digits = [1,2,3]\n",
    "a = Solution()\n",
    "a.plusOne(digits)"
   ]
  },
  {
   "cell_type": "markdown",
   "id": "595bb1d4",
   "metadata": {},
   "source": [
    "Question 6\n",
    "Given a non-empty array of integers nums, every element appears twice except\n",
    "for one. Find that single one."
   ]
  },
  {
   "cell_type": "code",
   "execution_count": 29,
   "id": "a74a472d",
   "metadata": {},
   "outputs": [],
   "source": [
    "class Solution:\n",
    "    def singleNumber(self, nums):\n",
    "        for i in nums:\n",
    "            if(nums.count(i) == 1):\n",
    "                return(i)"
   ]
  },
  {
   "cell_type": "code",
   "execution_count": 30,
   "id": "75d2df2c",
   "metadata": {},
   "outputs": [
    {
     "data": {
      "text/plain": [
       "1"
      ]
     },
     "execution_count": 30,
     "metadata": {},
     "output_type": "execute_result"
    }
   ],
   "source": [
    "a =Solution()\n",
    "a.singleNumber(nums)"
   ]
  },
  {
   "cell_type": "markdown",
   "id": "cf0fc8f1",
   "metadata": {},
   "source": [
    "Question 7\n",
    "You are given an inclusive range [lower, upper] and a sorted unique integer array\n",
    "nums, where all elements are within the inclusive range."
   ]
  },
  {
   "cell_type": "code",
   "execution_count": 1,
   "id": "af28113f",
   "metadata": {},
   "outputs": [],
   "source": []
  },
  {
   "cell_type": "code",
   "execution_count": null,
   "id": "863b2467",
   "metadata": {},
   "outputs": [],
   "source": [
    "nums = [0,1,3,50,75]\n",
    "lower = 0\n",
    "upper = 99"
   ]
  },
  {
   "cell_type": "markdown",
   "id": "8ffdc227",
   "metadata": {},
   "source": [
    "Question 8 Given an array of meeting time intervals where intervals[i] = [starti, endi], determine if a person could attend all meetings."
   ]
  },
  {
   "cell_type": "code",
   "execution_count": null,
   "id": "9d48ca8d",
   "metadata": {},
   "outputs": [],
   "source": []
  },
  {
   "cell_type": "code",
   "execution_count": null,
   "id": "525a4bd1",
   "metadata": {},
   "outputs": [],
   "source": []
  }
 ],
 "metadata": {
  "kernelspec": {
   "display_name": "Python 3 (ipykernel)",
   "language": "python",
   "name": "python3"
  },
  "language_info": {
   "codemirror_mode": {
    "name": "ipython",
    "version": 3
   },
   "file_extension": ".py",
   "mimetype": "text/x-python",
   "name": "python",
   "nbconvert_exporter": "python",
   "pygments_lexer": "ipython3",
   "version": "3.10.8"
  }
 },
 "nbformat": 4,
 "nbformat_minor": 5
}
