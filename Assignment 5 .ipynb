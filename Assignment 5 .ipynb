{
 "cells": [
  {
   "cell_type": "markdown",
   "id": "88818752",
   "metadata": {},
   "source": [
    "<aside>\n",
    "💡 **Question 1**\n",
    "\n",
    "Convert 1D Array Into 2D Array\n",
    "\n",
    "You are given a **0-indexed** 1-dimensional (1D) integer array original, and two integers, m and n. You are tasked with creating a 2-dimensional (2D) array with  m rows and n columns using **all** the elements from original.\n",
    "\n",
    "The elements from indices 0 to n - 1 (**inclusive**) of original should form the first row of the constructed 2D array, the elements from indices n to 2 * n - 1 (**inclusive**) should form the second row of the constructed 2D array, and so on.\n",
    "\n",
    "Return *an* m x n *2D array constructed according to the above procedure, or an empty 2D array if it is impossible*.\n",
    "\n",
    "</aside>"
   ]
  },
  {
   "cell_type": "code",
   "execution_count": 43,
   "id": "3a1311f4",
   "metadata": {},
   "outputs": [],
   "source": [
    "original = [1,2,3,4]\n",
    "m = 2\n",
    "n = 2"
   ]
  },
  {
   "cell_type": "code",
   "execution_count": 51,
   "id": "7b63fa03",
   "metadata": {},
   "outputs": [],
   "source": [
    "def twodarray(original,m,n):\n",
    "    if len(original) != m*n:\n",
    "        return []\n",
    "    index = 0\n",
    "    res = [[0] * n for _ in range(m)]\n",
    "    \n",
    "    for i in range(m):\n",
    "        for j in range(n):\n",
    "            res[i][j] = original[index]\n",
    "            index += 1\n",
    "    \n",
    "    return res"
   ]
  },
  {
   "cell_type": "code",
   "execution_count": 52,
   "id": "54e211de",
   "metadata": {},
   "outputs": [
    {
     "data": {
      "text/plain": [
       "[[1, 2], [3, 4]]"
      ]
     },
     "execution_count": 52,
     "metadata": {},
     "output_type": "execute_result"
    }
   ],
   "source": [
    "twodarray(original,m,n)"
   ]
  },
  {
   "cell_type": "markdown",
   "id": "6e9dc67a",
   "metadata": {},
   "source": [
    "<aside>\n",
    "💡 **Question 2**\n",
    "\n",
    "You have n coins and you want to build a staircase with these coins. The staircase consists of k rows where the ith row has exactly i coins. The last row of the staircase **may be** incomplete.\n",
    "\n",
    "Given the integer n, return *the number of **complete rows** of the staircase you will build*.\n",
    "\n",
    "</aside>"
   ]
  },
  {
   "cell_type": "code",
   "execution_count": 75,
   "id": "e5985cb0",
   "metadata": {},
   "outputs": [],
   "source": [
    "def coins(n):\n",
    "    left,right = 1,n\n",
    "    \n",
    "    while left <= right:\n",
    "        mid = left + (right-left)// 2 \n",
    "        \n",
    "        coins = (mid*(mid+1)) //2\n",
    "        \n",
    "        if coins <= n:\n",
    "            left = mid +1\n",
    "            \n",
    "        else:\n",
    "            right = mid -1 \n",
    "            \n",
    "    return right"
   ]
  },
  {
   "cell_type": "code",
   "execution_count": 76,
   "id": "82d92c26",
   "metadata": {},
   "outputs": [
    {
     "data": {
      "text/plain": [
       "2"
      ]
     },
     "execution_count": 76,
     "metadata": {},
     "output_type": "execute_result"
    }
   ],
   "source": [
    "n = 5\n",
    "coins(n)"
   ]
  },
  {
   "cell_type": "markdown",
   "id": "f0467927",
   "metadata": {},
   "source": [
    "<aside>\n",
    "💡 **Question 3**\n",
    "\n",
    "Given an integer array nums sorted in **non-decreasing** order, return *an array of **the squares of each number** sorted in non-decreasing order*.\n",
    "\n",
    "</aside>"
   ]
  },
  {
   "cell_type": "code",
   "execution_count": 81,
   "id": "af9839b6",
   "metadata": {},
   "outputs": [],
   "source": [
    "nums = [-4,-1,0,3,10]"
   ]
  },
  {
   "cell_type": "code",
   "execution_count": 88,
   "id": "133b970b",
   "metadata": {},
   "outputs": [],
   "source": [
    "def squares(nums):\n",
    "    result = [None for _ in nums]\n",
    "    \n",
    "    left, right = 0 , len(nums)-1\n",
    "    for index in range(len(nums)-1,-1,-1):\n",
    "        if abs(nums[left] > abs(nums[right])):\n",
    "            result[index] = nums[left] ** 2\n",
    "            left +=1\n",
    "        else:\n",
    "            result[index] = nums[right] ** 2\n",
    "            right -=1\n",
    "    result.sort()\n",
    "    return result"
   ]
  },
  {
   "cell_type": "code",
   "execution_count": 89,
   "id": "e4f0c121",
   "metadata": {},
   "outputs": [
    {
     "data": {
      "text/plain": [
       "[0, 1, 9, 16, 100]"
      ]
     },
     "execution_count": 89,
     "metadata": {},
     "output_type": "execute_result"
    }
   ],
   "source": [
    "squares(nums)"
   ]
  },
  {
   "cell_type": "markdown",
   "id": "f88c9262",
   "metadata": {},
   "source": []
  },
  {
   "cell_type": "markdown",
   "id": "76beb052",
   "metadata": {},
   "source": [
    "<aside>\n",
    "💡 **Question 4**\n",
    "\n",
    "Given two **0-indexed** integer arrays nums1 and nums2, return *a list* answer *of size* 2 *where:*\n",
    "\n",
    "- answer[0] *is a list of all **distinct** integers in* nums1 *which are **not** present in* nums2*.*\n",
    "- answer[1] *is a list of all **distinct** integers in* nums2 *which are **not** present in* nums1.\n",
    "</aside>"
   ]
  },
  {
   "cell_type": "code",
   "execution_count": 92,
   "id": "a6469d2a",
   "metadata": {},
   "outputs": [],
   "source": [
    "def distinct_integers(nums1,nums2):\n",
    "    res = []\n",
    "    a = []\n",
    "    a = set(nums1)-set(nums2)\n",
    "    b = []\n",
    "    b=set(nums2) -set(nums1)\n",
    "    res.append(a)\n",
    "    res.append(b)\n",
    "    return res"
   ]
  },
  {
   "cell_type": "code",
   "execution_count": 93,
   "id": "c4cb8111",
   "metadata": {},
   "outputs": [
    {
     "data": {
      "text/plain": [
       "[{1, 3}, {4, 6}]"
      ]
     },
     "execution_count": 93,
     "metadata": {},
     "output_type": "execute_result"
    }
   ],
   "source": [
    "nums1 = [1,2,3]\n",
    "nums2 = [2,4,6]\n",
    "distinct_integers(nums1,nums2)"
   ]
  },
  {
   "cell_type": "markdown",
   "id": "f3c0bd79",
   "metadata": {},
   "source": [
    "<aside>\n",
    "💡 **Question 5**\n",
    "\n",
    "Given two integer arrays arr1 and arr2, and the integer d, *return the distance value between the two arrays*.\n",
    "\n",
    "The distance value is defined as the number of elements arr1[i] such that there is not any element arr2[j] where |arr1[i]-arr2[j]| <= d.\n",
    "\n",
    "</aside>"
   ]
  },
  {
   "cell_type": "code",
   "execution_count": 98,
   "id": "b9d220b8",
   "metadata": {},
   "outputs": [],
   "source": [
    "arr1 = [4,5,8]\n",
    "arr2 = [10,9,1,8]\n",
    "d = 2\n",
    "def distance_value(arr1,arr2,d):\n",
    "    min_dist = 0\n",
    "    for i in range(len(arr1)):\n",
    "        for j in range(len(arr2)):\n",
    "            if abs(arr1[i]-arr2[j]) <= d:\n",
    "                min_dist += 1\n",
    "                break\n",
    "    \n",
    "    return len(arr1)-(min_dist)"
   ]
  },
  {
   "cell_type": "code",
   "execution_count": 99,
   "id": "230c080f",
   "metadata": {},
   "outputs": [
    {
     "data": {
      "text/plain": [
       "2"
      ]
     },
     "execution_count": 99,
     "metadata": {},
     "output_type": "execute_result"
    }
   ],
   "source": [
    "distance_value(arr1,arr2,d)"
   ]
  },
  {
   "cell_type": "markdown",
   "id": "1f3c4f0d",
   "metadata": {},
   "source": [
    "<aside>\n",
    "💡 **Question 6**\n",
    "\n",
    "Given an integer array nums of length n where all the integers of nums are in the range [1, n] and each integer appears **once** or **twice**, return *an array of all the integers that appears **twice***.\n",
    "\n",
    "</aside>"
   ]
  },
  {
   "cell_type": "code",
   "execution_count": 100,
   "id": "740dea0b",
   "metadata": {},
   "outputs": [],
   "source": [
    " nums = [4,3,2,7,8,2,3,1]"
   ]
  },
  {
   "cell_type": "code",
   "execution_count": 115,
   "id": "8cb2309d",
   "metadata": {},
   "outputs": [],
   "source": [
    "def find_dups(nums):\n",
    "    d = {}\n",
    "    li = []\n",
    "    for i in nums:\n",
    "        if i not in d:\n",
    "            d[i] = 1\n",
    "        else:\n",
    "            d[i] +=1\n",
    "            li.append(i)\n",
    "    return li"
   ]
  },
  {
   "cell_type": "markdown",
   "id": "71468482",
   "metadata": {},
   "source": [
    "find_dups(nums)"
   ]
  },
  {
   "cell_type": "markdown",
   "id": "367a5f92",
   "metadata": {},
   "source": [
    "<aside>\n",
    "💡 **Question 7**\n",
    "\n",
    "Suppose an array of length n sorted in ascending order is **rotated** between 1 and n times. For example, the array nums = [0,1,2,4,5,6,7] might become:\n",
    "\n",
    "- [4,5,6,7,0,1,2] if it was rotated 4 times.\n",
    "- [0,1,2,4,5,6,7] if it was rotated 7 times.\n",
    "</aside>"
   ]
  },
  {
   "cell_type": "code",
   "execution_count": 117,
   "id": "19bb10bd",
   "metadata": {},
   "outputs": [],
   "source": [
    "def findmin(nums):\n",
    "    left,right = 0,len(nums)-1\n",
    "    while left < right:\n",
    "        mid = left + (right - left) // 2\n",
    "        if nums[mid] > nums[right]:\n",
    "            left = mid +1 \n",
    "        else:\n",
    "            right = mid\n",
    "    return nums[left]"
   ]
  },
  {
   "cell_type": "code",
   "execution_count": 118,
   "id": "d9d82785",
   "metadata": {},
   "outputs": [
    {
     "data": {
      "text/plain": [
       "1"
      ]
     },
     "execution_count": 118,
     "metadata": {},
     "output_type": "execute_result"
    }
   ],
   "source": [
    "findmin(nums)"
   ]
  },
  {
   "cell_type": "markdown",
   "id": "1a36f587",
   "metadata": {},
   "source": [
    "<aside>\n",
    "💡 **Question 8**\n",
    "\n",
    "An integer array original is transformed into a **doubled** array changed by appending **twice the value** of every element in original, and then randomly **shuffling** the resulting array.\n",
    "\n",
    "Given an array changed, return original *if* changed *is a **doubled** array. If* changed *is not a **doubled** array, return an empty array. The elements in* original *may be returned in **any** order*.\n",
    "\n",
    "</aside>"
   ]
  },
  {
   "cell_type": "code",
   "execution_count": 120,
   "id": "1eaf9253",
   "metadata": {},
   "outputs": [],
   "source": [
    "changed = [1,3,4,2,6,8]"
   ]
  },
  {
   "cell_type": "code",
   "execution_count": null,
   "id": "b79dba8d",
   "metadata": {},
   "outputs": [],
   "source": []
  }
 ],
 "metadata": {
  "kernelspec": {
   "display_name": "Python 3 (ipykernel)",
   "language": "python",
   "name": "python3"
  },
  "language_info": {
   "codemirror_mode": {
    "name": "ipython",
    "version": 3
   },
   "file_extension": ".py",
   "mimetype": "text/x-python",
   "name": "python",
   "nbconvert_exporter": "python",
   "pygments_lexer": "ipython3",
   "version": "3.10.8"
  }
 },
 "nbformat": 4,
 "nbformat_minor": 5
}
