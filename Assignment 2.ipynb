{
 "cells": [
  {
   "cell_type": "markdown",
   "id": "9f841f56",
   "metadata": {},
   "source": [
    "Question 1:\n",
    "Given an integer array nums of 2n integers, group these integers into n pairs (a1, b1), (a2, b2),..., (an, bn) such that the sum of min(ai, bi) for all i is maximized. Return the maximized sum."
   ]
  },
  {
   "cell_type": "code",
   "execution_count": 1,
   "id": "a76d51a3",
   "metadata": {},
   "outputs": [],
   "source": [
    "def arraypairsum(nums):\n",
    "    \n",
    "    nums.sort()\n",
    "    result = 0\n",
    "    numlen = len(nums)\n",
    "    for i in range(0,numlen-1,2):\n",
    "        result += nums[i]\n",
    "    return result"
   ]
  },
  {
   "cell_type": "code",
   "execution_count": 6,
   "id": "476d7357",
   "metadata": {},
   "outputs": [
    {
     "data": {
      "text/plain": [
       "4"
      ]
     },
     "execution_count": 6,
     "metadata": {},
     "output_type": "execute_result"
    }
   ],
   "source": [
    "nums = [1,4,3,2]\n",
    "arraypairsum(nums)"
   ]
  },
  {
   "cell_type": "markdown",
   "id": "3e0f95c3",
   "metadata": {},
   "source": [
    "Question 2\n",
    "Alice has n candies, where the ith candy is of type candyType[i]. Alice noticed that she started to gain weight, so she visited a doctor. "
   ]
  },
  {
   "cell_type": "code",
   "execution_count": 10,
   "id": "44188b24",
   "metadata": {},
   "outputs": [],
   "source": [
    "def candytype(candyType):\n",
    "    length = int(len(candyType)/2)\n",
    "    unique_candy = len(set(candyType))\n",
    "    return min(length,unique_candy)"
   ]
  },
  {
   "cell_type": "code",
   "execution_count": 11,
   "id": "50b3871d",
   "metadata": {},
   "outputs": [
    {
     "data": {
      "text/plain": [
       "3"
      ]
     },
     "execution_count": 11,
     "metadata": {},
     "output_type": "execute_result"
    }
   ],
   "source": [
    "candyType = [1,1,2,2,3,3]\n",
    "candytype(candyType)"
   ]
  },
  {
   "cell_type": "markdown",
   "id": "b108dfdb",
   "metadata": {},
   "source": [
    "Question 3\n",
    "We define a harmonious array as an array where the difference between its maximum value\n",
    "and its minimum value is exactly 1."
   ]
  },
  {
   "cell_type": "code",
   "execution_count": 1,
   "id": "c9e93a12",
   "metadata": {},
   "outputs": [],
   "source": [
    "def harmonious_array(nums):\n",
    "    letter = {}\n",
    "    ans = 0\n",
    "    for i in nums:\n",
    "        if i not in letter:\n",
    "            letter[i] = 1\n",
    "        else:\n",
    "            letter[i] += 1\n",
    "    for i in letter:\n",
    "        if i +1 in letter.keys():\n",
    "            ans = max(ans,letter[i] + letter[i+1])\n",
    "    return ans"
   ]
  },
  {
   "cell_type": "code",
   "execution_count": 2,
   "id": "6c390da4",
   "metadata": {},
   "outputs": [
    {
     "data": {
      "text/plain": [
       "5"
      ]
     },
     "execution_count": 2,
     "metadata": {},
     "output_type": "execute_result"
    }
   ],
   "source": [
    "nums = [1,3,2,2,5,2,3,7]\n",
    "harmonious_array(nums)"
   ]
  },
  {
   "cell_type": "markdown",
   "id": "4ac95cf4",
   "metadata": {},
   "source": [
    "Question 4\n",
    "You have a long flowerbed in which some of the plots are planted, and some are not.\n",
    "However, flowers cannot be planted in adjacent plots."
   ]
  },
  {
   "cell_type": "code",
   "execution_count": 3,
   "id": "2f8157fb",
   "metadata": {},
   "outputs": [],
   "source": [
    "def flowers_place(flowerbed,n):\n",
    "    if n == 0:\n",
    "        return True\n",
    "    for i in range(len(flowerbed)):\n",
    "        if flowerbed[i] == 0 and (i == 0 or flowerbed[i-1] == 0) and (i == len(flowerbed)-1 or flowerbed[i+1] == 0):\n",
    "            flowerbed[i] = 1\n",
    "            n -= 1\n",
    "            if n == 0:\n",
    "                return True\n",
    "    return False"
   ]
  },
  {
   "cell_type": "code",
   "execution_count": 4,
   "id": "fef082a4",
   "metadata": {},
   "outputs": [
    {
     "data": {
      "text/plain": [
       "True"
      ]
     },
     "execution_count": 4,
     "metadata": {},
     "output_type": "execute_result"
    }
   ],
   "source": [
    "flowerbed = [1,0,0,0,1]\n",
    "n = 1\n",
    "flowers_place(flowerbed,n)"
   ]
  },
  {
   "cell_type": "markdown",
   "id": "e528c31a",
   "metadata": {},
   "source": [
    "Question 5\n",
    "Given an integer array nums, find three numbers whose product is maximum and return the maximum product."
   ]
  },
  {
   "cell_type": "code",
   "execution_count": 9,
   "id": "83a500cf",
   "metadata": {},
   "outputs": [],
   "source": [
    "def maxproduct(nums):\n",
    "    nums.sort()\n",
    "    l1 = nums[-1] *nums[-2]*nums[-3]\n",
    "    l2 = nums[0]* nums[1]*nums[-1]\n",
    "    return max(l1,l2)"
   ]
  },
  {
   "cell_type": "code",
   "execution_count": 10,
   "id": "e5c98e14",
   "metadata": {},
   "outputs": [
    {
     "data": {
      "text/plain": [
       "6"
      ]
     },
     "execution_count": 10,
     "metadata": {},
     "output_type": "execute_result"
    }
   ],
   "source": [
    "nums = [1,2,3]\n",
    "maxproduct(nums)"
   ]
  },
  {
   "cell_type": "markdown",
   "id": "0128596a",
   "metadata": {},
   "source": [
    "Question 6\n",
    "Given an array of integers nums which is sorted in ascending order, and an integer target,\n",
    "write a function to search target in nums. If target exists, then return its index. Otherwise,\n",
    "return -1."
   ]
  },
  {
   "cell_type": "code",
   "execution_count": 12,
   "id": "bd5703cd",
   "metadata": {},
   "outputs": [],
   "source": [
    "def search_ele(nums,target):\n",
    "    left = 0\n",
    "    right = len(nums)-1\n",
    "    while (left <= right):\n",
    "        mid = (left+right)//2\n",
    "        if nums[mid] == target:\n",
    "            return mid\n",
    "        elif nums[mid] < target:\n",
    "            left = mid+1\n",
    "            \n",
    "        else:\n",
    "            right = mid-1\n",
    "    return -1"
   ]
  },
  {
   "cell_type": "code",
   "execution_count": 13,
   "id": "2737e54c",
   "metadata": {},
   "outputs": [
    {
     "data": {
      "text/plain": [
       "4"
      ]
     },
     "execution_count": 13,
     "metadata": {},
     "output_type": "execute_result"
    }
   ],
   "source": [
    "nums = [-1,0,3,5,9,12]\n",
    "target = 9\n",
    "search_ele(nums,target)"
   ]
  },
  {
   "cell_type": "markdown",
   "id": "66ce31cc",
   "metadata": {},
   "source": [
    "Question 7\n",
    "An array is monotonic if it is either monotone increasing or monotone decreasing."
   ]
  },
  {
   "cell_type": "code",
   "execution_count": 16,
   "id": "b5d8336d",
   "metadata": {},
   "outputs": [],
   "source": [
    "def ismonotonic(nums):\n",
    "    if nums[-1] < nums[0]:\n",
    "        nums = nums[::-1]\n",
    "        \n",
    "    for i in range(1,len(nums)):\n",
    "        if nums[i] < nums[i-1]:\n",
    "            return False\n",
    "    return True"
   ]
  },
  {
   "cell_type": "code",
   "execution_count": 17,
   "id": "35875d2c",
   "metadata": {},
   "outputs": [
    {
     "data": {
      "text/plain": [
       "True"
      ]
     },
     "execution_count": 17,
     "metadata": {},
     "output_type": "execute_result"
    }
   ],
   "source": [
    "nums = [1,2,2,3]\n",
    "ismonotonic(nums)"
   ]
  },
  {
   "cell_type": "markdown",
   "id": "b4aa0a69",
   "metadata": {},
   "source": [
    "Question 8\n",
    "You are given an integer array nums and an integer k.\n",
    "In one operation, you can choose any index i where 0 <= i < nums.length and change nums[i] to nums[i] + x where x is an integer from the range [-k, k]. You can apply this operation at most once for each index i."
   ]
  },
  {
   "cell_type": "code",
   "execution_count": 19,
   "id": "e71670fa",
   "metadata": {},
   "outputs": [],
   "source": [
    "def smallest_range(nums,k):\n",
    "    if len(nums) <= 1 :\n",
    "        return 0\n",
    "    diff = max(nums)- min(nums)\n",
    "    new_diff = diff-2*k\n",
    "    if new_diff < 0:\n",
    "        return 0\n",
    "    else:\n",
    "        return new_diff"
   ]
  },
  {
   "cell_type": "code",
   "execution_count": 20,
   "id": "d2c0313b",
   "metadata": {},
   "outputs": [
    {
     "data": {
      "text/plain": [
       "0"
      ]
     },
     "execution_count": 20,
     "metadata": {},
     "output_type": "execute_result"
    }
   ],
   "source": [
    "nums = [1]\n",
    "k = 0\n",
    "smallest_range(nums,k)"
   ]
  },
  {
   "cell_type": "code",
   "execution_count": null,
   "id": "7e00af83",
   "metadata": {},
   "outputs": [],
   "source": []
  }
 ],
 "metadata": {
  "kernelspec": {
   "display_name": "Python 3 (ipykernel)",
   "language": "python",
   "name": "python3"
  },
  "language_info": {
   "codemirror_mode": {
    "name": "ipython",
    "version": 3
   },
   "file_extension": ".py",
   "mimetype": "text/x-python",
   "name": "python",
   "nbconvert_exporter": "python",
   "pygments_lexer": "ipython3",
   "version": "3.10.8"
  }
 },
 "nbformat": 4,
 "nbformat_minor": 5
}
