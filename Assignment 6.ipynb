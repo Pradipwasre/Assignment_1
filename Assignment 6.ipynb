{
 "cells": [
  {
   "cell_type": "markdown",
   "id": "43a03914",
   "metadata": {},
   "source": [
    "<aside>\n",
    "💡 **Question 1**\n",
    "\n",
    "A permutation perm of n + 1 integers of all the integers in the range [0, n] can be represented as a string s of length n where:\n",
    "\n",
    "- s[i] == 'I' if perm[i] < perm[i + 1], and\n",
    "- s[i] == 'D' if perm[i] > perm[i + 1].\n",
    "\n",
    "Given a string s, reconstruct the permutation perm and return it. If there are multiple valid permutations perm, return **any of them**.\n",
    "\n",
    "</aside>"
   ]
  },
  {
   "cell_type": "code",
   "execution_count": 8,
   "id": "dfea60e5",
   "metadata": {},
   "outputs": [],
   "source": [
    "s = \"IDID\""
   ]
  },
  {
   "cell_type": "code",
   "execution_count": 12,
   "id": "3660210d",
   "metadata": {},
   "outputs": [],
   "source": [
    " def diStringMatch(S):\n",
    "        n=len(S)\n",
    "        result=[]\n",
    "        initial=0\n",
    "        final=n\n",
    "        for i in range(n):\n",
    "            if S[i]=='I':\n",
    "                result.append(initial)\n",
    "                initial=initial+1\n",
    "            else:\n",
    "                result.append(final)\n",
    "                final=final-1\n",
    "        result.append(final)\n",
    "        return result"
   ]
  },
  {
   "cell_type": "code",
   "execution_count": 13,
   "id": "9c3992b9",
   "metadata": {},
   "outputs": [
    {
     "data": {
      "text/plain": [
       "[0, 4, 1, 3, 2]"
      ]
     },
     "execution_count": 13,
     "metadata": {},
     "output_type": "execute_result"
    }
   ],
   "source": [
    "diStringMatch(s)"
   ]
  },
  {
   "cell_type": "markdown",
   "id": "a8c68479",
   "metadata": {},
   "source": [
    "<aside>\n",
    "💡 **Question 2**\n",
    "\n",
    "You are given an m x n integer matrix matrix with the following two properties:\n",
    "\n",
    "- Each row is sorted in non-decreasing order.\n",
    "- The first integer of each row is greater than the last integer of the previous row.\n",
    "\n",
    "Given an integer target, return true *if* target *is in* matrix *or* false *otherwise*.\n",
    "\n",
    "You must write a solution in O(log(m * n)) time complexity.\n",
    "\n",
    "</aside>"
   ]
  },
  {
   "cell_type": "code",
   "execution_count": 14,
   "id": "a2aa7d62",
   "metadata": {},
   "outputs": [],
   "source": [
    "matrix = [[1,3,5,7],[10,11,16,20],[23,30,34,60]]\n",
    "target = 3"
   ]
  },
  {
   "cell_type": "code",
   "execution_count": 20,
   "id": "4f884cc5",
   "metadata": {},
   "outputs": [],
   "source": [
    "class Solution:\n",
    "    def searchMatrix(self, matrix, target):\n",
    "        if not matrix: \n",
    "            return 0\n",
    "        m, n = len(matrix), len(matrix[0])\n",
    "        if not n: return 0\n",
    "        r, r1, r2 = -1, 0, m-1\n",
    "        while r1 <= r2:\n",
    "            mid = (r1+r2) // 2 \n",
    "            if matrix[mid][0] <= target <= matrix[mid][n-1]: r = mid; break\n",
    "            elif matrix[mid][0] > target: r2 = mid - 1\n",
    "            else: r1 = mid + 1    \n",
    "        if r == -1: return False        \n",
    "        \n",
    "        c1, c2 = 0, n-1\n",
    "        while c1 <= c2:\n",
    "            mid = (c1+c2) // 2 \n",
    "            if matrix[r][mid] == target: return True\n",
    "            elif matrix[r][mid] > target: c2 = mid - 1\n",
    "            else: c1 = mid + 1\n",
    "        return False       "
   ]
  },
  {
   "cell_type": "code",
   "execution_count": 21,
   "id": "facf44d3",
   "metadata": {},
   "outputs": [
    {
     "data": {
      "text/plain": [
       "True"
      ]
     },
     "execution_count": 21,
     "metadata": {},
     "output_type": "execute_result"
    }
   ],
   "source": [
    "a = Solution()\n",
    "a.searchMatrix(matrix,target)"
   ]
  },
  {
   "cell_type": "markdown",
   "id": "3a825f16",
   "metadata": {},
   "source": [
    "<aside>\n",
    "💡 **Question 3**\n",
    "\n",
    "Given an array of integers arr, return *true if and only if it is a valid mountain array*.\n",
    "\n",
    "Recall that arr is a mountain array if and only if:\n",
    "\n",
    "- arr.length >= 3\n",
    "- There exists some i with 0 < i < arr.length - 1 such that:\n",
    "    - arr[0] < arr[1] < ... < arr[i - 1] < arr[i]\n",
    "    - arr[i] > arr[i + 1] > ... > arr[arr.length - 1]\n",
    "</aside>"
   ]
  },
  {
   "cell_type": "code",
   "execution_count": 6,
   "id": "32ee1162",
   "metadata": {},
   "outputs": [],
   "source": [
    "arr = [2,1]"
   ]
  },
  {
   "cell_type": "code",
   "execution_count": 17,
   "id": "62e215ec",
   "metadata": {},
   "outputs": [],
   "source": [
    "class Solution:\n",
    "    def validMountainArray(self, A):\n",
    "        if len(A)<3:return False\n",
    "        l=len(A)\n",
    "        i,j=0,l-1\n",
    "        while i<j and A[i]<A[i+1]:\n",
    "            i+=1\n",
    "        while j>0 and A[j]<A[j-1]:\n",
    "            j-=1\n",
    "        if i==j and j!=l-1 and i!=0:return True\n",
    "        return False"
   ]
  },
  {
   "cell_type": "code",
   "execution_count": 18,
   "id": "c6bf7509",
   "metadata": {},
   "outputs": [
    {
     "data": {
      "text/plain": [
       "False"
      ]
     },
     "execution_count": 18,
     "metadata": {},
     "output_type": "execute_result"
    }
   ],
   "source": [
    "a = Solution()\n",
    "a.validMountainArray(arr)"
   ]
  },
  {
   "cell_type": "code",
   "execution_count": 19,
   "id": "1051ff62",
   "metadata": {},
   "outputs": [
    {
     "data": {
      "text/plain": [
       "True"
      ]
     },
     "execution_count": 19,
     "metadata": {},
     "output_type": "execute_result"
    }
   ],
   "source": [
    "arr = [1,4,3]\n",
    "a.validMountainArray(arr)"
   ]
  },
  {
   "cell_type": "markdown",
   "id": "d4743390",
   "metadata": {},
   "source": [
    "<aside>\n",
    "💡 **Question 4**\n",
    "\n",
    "Given a binary array nums, return *the maximum length of a contiguous subarray with an equal number of* 0 *and* 1.\n",
    "\n",
    "</aside>"
   ]
  },
  {
   "cell_type": "code",
   "execution_count": 5,
   "id": "bd5d3a8f",
   "metadata": {},
   "outputs": [],
   "source": [
    "nums = [0,1]"
   ]
  },
  {
   "cell_type": "code",
   "execution_count": 22,
   "id": "f954035d",
   "metadata": {},
   "outputs": [],
   "source": [
    "def findMaxLength(nums):\n",
    "        d = {}\n",
    "        curr = 0\n",
    "        ans = 0\n",
    "        for i in range(len(nums)):\n",
    "            if nums[i]==1:\n",
    "                curr += 1\n",
    "            else:\n",
    "                curr -= 1\n",
    "            \n",
    "            if curr==0:\n",
    "                ans = max(ans, i+1)\n",
    "            \n",
    "            if curr in d:\n",
    "                ans = max(ans, i-d[curr])\n",
    "            else:\n",
    "                d[curr] = i\n",
    "        \n",
    "        return ans"
   ]
  },
  {
   "cell_type": "code",
   "execution_count": 23,
   "id": "0d2a2e2e",
   "metadata": {},
   "outputs": [
    {
     "data": {
      "text/plain": [
       "2"
      ]
     },
     "execution_count": 23,
     "metadata": {},
     "output_type": "execute_result"
    }
   ],
   "source": [
    "findMaxLength(nums)"
   ]
  },
  {
   "cell_type": "code",
   "execution_count": null,
   "id": "a6ee9863",
   "metadata": {},
   "outputs": [],
   "source": []
  },
  {
   "cell_type": "markdown",
   "id": "7f63d5da",
   "metadata": {},
   "source": [
    "<aside>\n",
    "💡 **Question 5**\n",
    "\n",
    "The **product sum** of two equal-length arrays a and b is equal to the sum of a[i] * b[i] for all 0 <= i < a.length (**0-indexed**).\n",
    "\n",
    "- For example, if a = [1,2,3,4] and b = [5,2,3,1], the **product sum** would be 1*5 + 2*2 + 3*3 + 4*1 = 22.\n",
    "\n",
    "Given two arrays nums1 and nums2 of length n, return *the **minimum product sum** if you are allowed to **rearrange** the **order** of the elements in* nums1.\n",
    "\n",
    "</aside>"
   ]
  },
  {
   "cell_type": "code",
   "execution_count": 1,
   "id": "cc5a064c",
   "metadata": {},
   "outputs": [],
   "source": [
    "nums1 = [5,3,4,2]\n",
    "nums2 = [4,2,2,5]"
   ]
  },
  {
   "cell_type": "code",
   "execution_count": 24,
   "id": "4f3a78a5",
   "metadata": {},
   "outputs": [],
   "source": [
    "class Solution:\n",
    "    def minProductSum(self, nums1, nums2):\n",
    "        nums1.sort()\n",
    "        nums2.sort()\n",
    "        n, res = len(nums1), 0\n",
    "        for i in range(n):\n",
    "            res += nums1[i] * nums2[n - i - 1]\n",
    "        return res"
   ]
  },
  {
   "cell_type": "code",
   "execution_count": 27,
   "id": "b11b0676",
   "metadata": {},
   "outputs": [
    {
     "data": {
      "text/plain": [
       "40"
      ]
     },
     "execution_count": 27,
     "metadata": {},
     "output_type": "execute_result"
    }
   ],
   "source": [
    "a = Solution()\n",
    "a.minProductSum(nums1,nums2)"
   ]
  },
  {
   "cell_type": "code",
   "execution_count": null,
   "id": "f4277cd7",
   "metadata": {},
   "outputs": [],
   "source": []
  },
  {
   "cell_type": "markdown",
   "id": "9813ada9",
   "metadata": {},
   "source": [
    "<aside>\n",
    "💡 **Question 6**\n",
    "\n",
    "An integer array original is transformed into a **doubled** array changed by appending **twice the value** of every element in original, and then randomly **shuffling** the resulting array.\n",
    "\n",
    "Given an array changed, return original *if* changed *is a **doubled** array. If* changed *is not a **doubled** array, return an empty array. The elements in* original *may be returned in **any** order*.\n",
    "\n",
    "</aside>"
   ]
  },
  {
   "cell_type": "code",
   "execution_count": 30,
   "id": "aa47ebd5",
   "metadata": {},
   "outputs": [],
   "source": [
    "changed = [1,3,4,2,6,8]\n",
    "from collections import deque"
   ]
  },
  {
   "cell_type": "code",
   "execution_count": 31,
   "id": "654121df",
   "metadata": {},
   "outputs": [],
   "source": [
    "class Solution:\n",
    "    def findOriginalArray(self, changed):\n",
    "        changed.sort()\n",
    "        stk,res=deque([]),[]\n",
    "        for i in changed:\n",
    "            if stk and stk[0]*2==i:\n",
    "                b=stk.popleft()\n",
    "                res.append(b)\n",
    "            else:\n",
    "                stk.append(i)\n",
    "        return res if not stk else []"
   ]
  },
  {
   "cell_type": "code",
   "execution_count": 32,
   "id": "dd0f65af",
   "metadata": {},
   "outputs": [
    {
     "data": {
      "text/plain": [
       "[1, 3, 4]"
      ]
     },
     "execution_count": 32,
     "metadata": {},
     "output_type": "execute_result"
    }
   ],
   "source": [
    "a = Solution()\n",
    "a.findOriginalArray(changed)"
   ]
  },
  {
   "cell_type": "code",
   "execution_count": null,
   "id": "87da996c",
   "metadata": {},
   "outputs": [],
   "source": []
  },
  {
   "cell_type": "code",
   "execution_count": null,
   "id": "10a084d6",
   "metadata": {},
   "outputs": [],
   "source": []
  },
  {
   "cell_type": "markdown",
   "id": "8895ced9",
   "metadata": {},
   "source": [
    "<aside>\n",
    "💡 **Question 7**\n",
    "\n",
    "Given a positive integer n, generate an n x n matrix filled with elements from 1 to n2 in spiral order.\n",
    "\n",
    "</aside>"
   ]
  },
  {
   "cell_type": "code",
   "execution_count": 3,
   "id": "38343d0b",
   "metadata": {},
   "outputs": [],
   "source": [
    "n = 3"
   ]
  },
  {
   "cell_type": "code",
   "execution_count": 33,
   "id": "2b500689",
   "metadata": {},
   "outputs": [],
   "source": [
    "class Solution:\n",
    "    def generateMatrix(self, n):\n",
    "        res = [[0] * n for _ in range(n)]\n",
    "        \n",
    "        def fill_circle(el, start, n):\n",
    "            i, j = start, start            \n",
    "            for k in range(j, j + n): \n",
    "                res[i][k], el = el, el + 1\n",
    "            for k in range(i + 1, i + n): \n",
    "                res[k][j + n - 1], el = el, el + 1\n",
    "            for k in reversed(range(j, j + n - 1)): \n",
    "                res[i + n - 1][k], el = el, el + 1\n",
    "            for k in reversed(range(i + 1, i + n - 1)): \n",
    "                res[k][j], el = el, el + 1\n",
    "        \n",
    "        el, start = 1, 0\n",
    "        while n > 0:\n",
    "            fill_circle(el, start, n)\n",
    "            el = el + 4*(n - 1)\n",
    "            n, start = n - 2, start + 1\n",
    "            \n",
    "        return res"
   ]
  },
  {
   "cell_type": "code",
   "execution_count": 34,
   "id": "06698166",
   "metadata": {},
   "outputs": [
    {
     "data": {
      "text/plain": [
       "[[1, 2, 3], [8, 9, 4], [7, 6, 5]]"
      ]
     },
     "execution_count": 34,
     "metadata": {},
     "output_type": "execute_result"
    }
   ],
   "source": [
    "a = Solution()\n",
    "a.generateMatrix(n)"
   ]
  },
  {
   "cell_type": "markdown",
   "id": "7f26b1e7",
   "metadata": {},
   "source": [
    "<aside>\n",
    "💡 **Question 8**\n",
    "\n",
    "Given two [sparse matrices](https://en.wikipedia.org/wiki/Sparse_matrix) mat1 of size m x k and mat2 of size k x n, return the result of mat1 x mat2. You may assume that multiplication is always possible.\n",
    "\n",
    "</aside>"
   ]
  },
  {
   "cell_type": "code",
   "execution_count": 35,
   "id": "1135e6b8",
   "metadata": {},
   "outputs": [],
   "source": [
    "mat1 = [[1,0,0],[-1,0,3]]\n",
    "mat2 = [[7,0,0],[0,0,0],[0,0,1]]"
   ]
  },
  {
   "cell_type": "code",
   "execution_count": null,
   "id": "a59f3e2a",
   "metadata": {},
   "outputs": [],
   "source": []
  }
 ],
 "metadata": {
  "kernelspec": {
   "display_name": "Python 3 (ipykernel)",
   "language": "python",
   "name": "python3"
  },
  "language_info": {
   "codemirror_mode": {
    "name": "ipython",
    "version": 3
   },
   "file_extension": ".py",
   "mimetype": "text/x-python",
   "name": "python",
   "nbconvert_exporter": "python",
   "pygments_lexer": "ipython3",
   "version": "3.10.8"
  }
 },
 "nbformat": 4,
 "nbformat_minor": 5
}
